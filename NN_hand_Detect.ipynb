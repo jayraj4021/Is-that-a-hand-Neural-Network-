{
 "cells": [
  {
   "cell_type": "markdown",
   "metadata": {},
   "source": [
    "First include libraries needed for this miniProject.\n",
    "1. PIL i.e. Python Imaging Library to read and resize train and test images,\n",
    "2. matplitlib.pyplot for ploting,\n",
    "3. numpy for matrix manipulation,\n",
    "4. os for operating system operations and\n",
    "4. keras for neural network."
   ]
  },
  {
   "cell_type": "code",
   "execution_count": 1,
   "metadata": {},
   "outputs": [
    {
     "name": "stderr",
     "output_type": "stream",
     "text": [
      "Using TensorFlow backend.\n"
     ]
    }
   ],
   "source": [
    "from PIL import Image\n",
    "import matplotlib.pyplot as plt\n",
    "import numpy as np\n",
    "import os\n",
    "from keras.models import Sequential\n",
    "from keras.layers import Conv2D\n",
    "from keras.layers import MaxPooling2D\n",
    "from keras.layers import Flatten\n",
    "from keras.layers import Dense"
   ]
  },
  {
   "cell_type": "code",
   "execution_count": 2,
   "metadata": {},
   "outputs": [
    {
     "name": "stdout",
     "output_type": "stream",
     "text": [
      "Train Set samples- HAND-82 NON_HAND-75\n",
      "Test Set samples- HAND-9 NON_HAND-8\n"
     ]
    }
   ],
   "source": [
    "#paths to find train and test data\n",
    "train_hand_dir = '/home/jayraj/Desktop/No_mouse_mouse/data_Set/dummy/train/hand/'\n",
    "train_non_hand_dir = '/home/jayraj/Desktop/No_mouse_mouse/data_Set/dummy/train/non_hand/'\n",
    "test_hand_dir = '/home/jayraj/Desktop/No_mouse_mouse/data_Set/dummy/test/hand/'\n",
    "test_non_hand_dir = '/home/jayraj/Desktop/No_mouse_mouse/data_Set/dummy/test/non_hand/'\n",
    "\n",
    "#get data set count\n",
    "train_hand_sample = len(os.listdir(train_hand_dir))\n",
    "train_non_hand_sample =len(os.listdir(train_non_hand_dir)) \n",
    "test_hand_sample = len(os.listdir(test_hand_dir))\n",
    "test_non_hand_sample = len(os.listdir(test_non_hand_dir))\n",
    "\n",
    "print(\"Train Set samples- HAND-\"+str(train_hand_sample)+\" NON_HAND-\"+str(train_non_hand_sample))\n",
    "print(\"Test Set samples- HAND-\"+str(test_hand_sample)+\" NON_HAND-\"+str(test_non_hand_sample))"
   ]
  },
  {
   "cell_type": "code",
   "execution_count": 3,
   "metadata": {},
   "outputs": [
    {
     "name": "stdout",
     "output_type": "stream",
     "text": [
      "shape of training data set: (157, 100, 100, 3)\n"
     ]
    }
   ],
   "source": [
    "train_x_data_set=np.zeros([train_hand_sample+train_non_hand_sample,100,100,3])\n",
    "print(\"shape of training data set: \"+ str(train_x_data_set.shape))"
   ]
  },
  {
   "cell_type": "code",
   "execution_count": 4,
   "metadata": {
    "collapsed": true
   },
   "outputs": [],
   "source": [
    "#load images containing hand in train_x_data_set matrix\n",
    "for index,filename in enumerate(os.listdir(train_hand_dir)):\n",
    "    img = Image.open(train_hand_dir+filename)\n",
    "    img = img.resize((100,100),Image.ANTIALIAS)\n",
    "    im = np.array(img)\n",
    "    train_x_data_set[index,:,:,:]=im"
   ]
  },
  {
   "cell_type": "code",
   "execution_count": 5,
   "metadata": {
    "collapsed": true
   },
   "outputs": [],
   "source": [
    "#load images that does not contain hand in train_x_data_set matrix\n",
    "for index,filename in enumerate(os.listdir(train_non_hand_dir)):\n",
    "    img = Image.open(train_non_hand_dir+filename)\n",
    "    img = img.resize((100,100),Image.ANTIALIAS)\n",
    "    im=np.array(img)\n",
    "    train_x_data_set[train_hand_sample+index,:,:,:]=im"
   ]
  },
  {
   "cell_type": "code",
   "execution_count": 6,
   "metadata": {},
   "outputs": [
    {
     "name": "stdout",
     "output_type": "stream",
     "text": [
      "[[[[ 0.39215686  0.6         0.60784314]\n",
      "   [ 0.4         0.59215686  0.60784314]\n",
      "   [ 0.4         0.58823529  0.60392157]\n",
      "   ..., \n",
      "   [ 0.40392157  0.51764706  0.57254902]\n",
      "   [ 0.40784314  0.51372549  0.57254902]\n",
      "   [ 0.4         0.50196078  0.56470588]]\n",
      "\n",
      "  [[ 0.37254902  0.58039216  0.58431373]\n",
      "   [ 0.38431373  0.58039216  0.59215686]\n",
      "   [ 0.39215686  0.58039216  0.59215686]\n",
      "   ..., \n",
      "   [ 0.4         0.52156863  0.58039216]\n",
      "   [ 0.40784314  0.52941176  0.58823529]\n",
      "   [ 0.41568627  0.52941176  0.59215686]]\n",
      "\n",
      "  [[ 0.4         0.61176471  0.61568627]\n",
      "   [ 0.40784314  0.60784314  0.61960784]\n",
      "   [ 0.40784314  0.59607843  0.61176471]\n",
      "   ..., \n",
      "   [ 0.39607843  0.51372549  0.56862745]\n",
      "   [ 0.40392157  0.51372549  0.57647059]\n",
      "   [ 0.40784314  0.51764706  0.58039216]]\n",
      "\n",
      "  ..., \n",
      "  [[ 0.41176471  0.61568627  0.67843137]\n",
      "   [ 0.41960784  0.61960784  0.67843137]\n",
      "   [ 0.43137255  0.62352941  0.68235294]\n",
      "   ..., \n",
      "   [ 0.22745098  0.30980392  0.31764706]\n",
      "   [ 0.17647059  0.37254902  0.47843137]\n",
      "   [ 0.28235294  0.55294118  0.70196078]]\n",
      "\n",
      "  [[ 0.41176471  0.61568627  0.68235294]\n",
      "   [ 0.42352941  0.61960784  0.68627451]\n",
      "   [ 0.42745098  0.62352941  0.68235294]\n",
      "   ..., \n",
      "   [ 0.22745098  0.3254902   0.3254902 ]\n",
      "   [ 0.18431373  0.37647059  0.49019608]\n",
      "   [ 0.28235294  0.55294118  0.69803922]]\n",
      "\n",
      "  [[ 0.42352941  0.61568627  0.6745098 ]\n",
      "   [ 0.41960784  0.61568627  0.67058824]\n",
      "   [ 0.42352941  0.61176471  0.67058824]\n",
      "   ..., \n",
      "   [ 0.21568627  0.32941176  0.32941176]\n",
      "   [ 0.16078431  0.38431373  0.50196078]\n",
      "   [ 0.2745098   0.54509804  0.69411765]]]\n",
      "\n",
      "\n",
      " [[[ 0.40392157  0.58431373  0.58039216]\n",
      "   [ 0.41176471  0.57647059  0.56078431]\n",
      "   [ 0.42352941  0.58431373  0.56862745]\n",
      "   ..., \n",
      "   [ 0.45098039  0.55294118  0.58823529]\n",
      "   [ 0.44705882  0.55294118  0.59215686]\n",
      "   [ 0.44705882  0.54901961  0.58823529]]\n",
      "\n",
      "  [[ 0.41176471  0.58039216  0.56470588]\n",
      "   [ 0.41176471  0.58039216  0.56470588]\n",
      "   [ 0.42745098  0.58823529  0.57254902]\n",
      "   ..., \n",
      "   [ 0.45490196  0.55686275  0.59607843]\n",
      "   [ 0.4627451   0.56078431  0.60392157]\n",
      "   [ 0.45490196  0.55294118  0.59607843]]\n",
      "\n",
      "  [[ 0.42352941  0.6         0.59215686]\n",
      "   [ 0.42352941  0.59215686  0.57647059]\n",
      "   [ 0.42352941  0.58823529  0.57254902]\n",
      "   ..., \n",
      "   [ 0.43921569  0.5372549   0.57254902]\n",
      "   [ 0.45098039  0.54901961  0.58823529]\n",
      "   [ 0.45882353  0.55294118  0.59607843]]\n",
      "\n",
      "  ..., \n",
      "  [[ 0.47843137  0.64705882  0.65882353]\n",
      "   [ 0.49411765  0.6627451   0.67058824]\n",
      "   [ 0.49411765  0.65882353  0.66666667]\n",
      "   ..., \n",
      "   [ 0.4627451   0.63921569  0.61568627]\n",
      "   [ 0.44313725  0.6         0.56862745]\n",
      "   [ 0.24705882  0.37647059  0.34901961]]\n",
      "\n",
      "  [[ 0.48627451  0.65490196  0.66666667]\n",
      "   [ 0.49411765  0.65882353  0.67058824]\n",
      "   [ 0.49411765  0.65490196  0.66666667]\n",
      "   ..., \n",
      "   [ 0.43137255  0.58823529  0.54901961]\n",
      "   [ 0.43137255  0.58823529  0.55294118]\n",
      "   [ 0.35294118  0.50196078  0.45882353]]\n",
      "\n",
      "  [[ 0.48235294  0.6627451   0.6745098 ]\n",
      "   [ 0.47843137  0.64705882  0.65882353]\n",
      "   [ 0.48235294  0.64313725  0.65098039]\n",
      "   ..., \n",
      "   [ 0.43529412  0.58039216  0.53333333]\n",
      "   [ 0.42745098  0.56862745  0.52156863]\n",
      "   [ 0.40784314  0.55294118  0.49803922]]]\n",
      "\n",
      "\n",
      " [[[ 0.35294118  0.53333333  0.52941176]\n",
      "   [ 0.36078431  0.53333333  0.5254902 ]\n",
      "   [ 0.37254902  0.54117647  0.5372549 ]\n",
      "   ..., \n",
      "   [ 0.4         0.51372549  0.55294118]\n",
      "   [ 0.40784314  0.51372549  0.56078431]\n",
      "   [ 0.40392157  0.50980392  0.55686275]]\n",
      "\n",
      "  [[ 0.36078431  0.5372549   0.52941176]\n",
      "   [ 0.36078431  0.53333333  0.52941176]\n",
      "   [ 0.38039216  0.54509804  0.54117647]\n",
      "   ..., \n",
      "   [ 0.4         0.51764706  0.56078431]\n",
      "   [ 0.41176471  0.52156863  0.56862745]\n",
      "   [ 0.40392157  0.51764706  0.56078431]]\n",
      "\n",
      "  [[ 0.37254902  0.55294118  0.54901961]\n",
      "   [ 0.36862745  0.54509804  0.54117647]\n",
      "   [ 0.37254902  0.54509804  0.5372549 ]\n",
      "   ..., \n",
      "   [ 0.38431373  0.50196078  0.54117647]\n",
      "   [ 0.39607843  0.50980392  0.55294118]\n",
      "   [ 0.4         0.51372549  0.55686275]]\n",
      "\n",
      "  ..., \n",
      "  [[ 0.41960784  0.59607843  0.62745098]\n",
      "   [ 0.42745098  0.61176471  0.63529412]\n",
      "   [ 0.42745098  0.60392157  0.62745098]\n",
      "   ..., \n",
      "   [ 0.36862745  0.54901961  0.53333333]\n",
      "   [ 0.36078431  0.52156863  0.49803922]\n",
      "   [ 0.19215686  0.30196078  0.2745098 ]]\n",
      "\n",
      "  [[ 0.42745098  0.60392157  0.62745098]\n",
      "   [ 0.42352941  0.60784314  0.63137255]\n",
      "   [ 0.42352941  0.60392157  0.62745098]\n",
      "   ..., \n",
      "   [ 0.35294118  0.50980392  0.48235294]\n",
      "   [ 0.34901961  0.50980392  0.48235294]\n",
      "   [ 0.28235294  0.42745098  0.4       ]]\n",
      "\n",
      "  [[ 0.43137255  0.60784314  0.64313725]\n",
      "   [ 0.41568627  0.59607843  0.62352941]\n",
      "   [ 0.41568627  0.59215686  0.61568627]\n",
      "   ..., \n",
      "   [ 0.35686275  0.49803922  0.4627451 ]\n",
      "   [ 0.34901961  0.48627451  0.45490196]\n",
      "   [ 0.34117647  0.47843137  0.43921569]]]\n",
      "\n",
      "\n",
      " ..., \n",
      " [[[ 0.62352941  0.77647059  0.79607843]\n",
      "   [ 0.62352941  0.76862745  0.78039216]\n",
      "   [ 0.63921569  0.77647059  0.78823529]\n",
      "   ..., \n",
      "   [ 0.63137255  0.71764706  0.76078431]\n",
      "   [ 0.62745098  0.72156863  0.76470588]\n",
      "   [ 0.62352941  0.7254902   0.76078431]]\n",
      "\n",
      "  [[ 0.61960784  0.76862745  0.78039216]\n",
      "   [ 0.63137255  0.76862745  0.77647059]\n",
      "   [ 0.64313725  0.78431373  0.79215686]\n",
      "   ..., \n",
      "   [ 0.63529412  0.73333333  0.77254902]\n",
      "   [ 0.63529412  0.72941176  0.77254902]\n",
      "   [ 0.62745098  0.72156863  0.76470588]]\n",
      "\n",
      "  [[ 0.63921569  0.79607843  0.80784314]\n",
      "   [ 0.64313725  0.78823529  0.79607843]\n",
      "   [ 0.64313725  0.78039216  0.78823529]\n",
      "   ..., \n",
      "   [ 0.62745098  0.71372549  0.75686275]\n",
      "   [ 0.62352941  0.72156863  0.76078431]\n",
      "   [ 0.63137255  0.7254902   0.76862745]]\n",
      "\n",
      "  ..., \n",
      "  [[ 0.70980392  0.87058824  0.90980392]\n",
      "   [ 0.72941176  0.88235294  0.92156863]\n",
      "   [ 0.7254902   0.8745098   0.90980392]\n",
      "   ..., \n",
      "   [ 0.61568627  0.76470588  0.76078431]\n",
      "   [ 0.58039216  0.69411765  0.67843137]\n",
      "   [ 0.33333333  0.39607843  0.44313725]]\n",
      "\n",
      "  [[ 0.71372549  0.8745098   0.91372549]\n",
      "   [ 0.7254902   0.8745098   0.91764706]\n",
      "   [ 0.7254902   0.87058824  0.91372549]\n",
      "   ..., \n",
      "   [ 0.56862745  0.69411765  0.68235294]\n",
      "   [ 0.59215686  0.70588235  0.68627451]\n",
      "   [ 0.49411765  0.6         0.59607843]]\n",
      "\n",
      "  [[ 0.71372549  0.88235294  0.92156863]\n",
      "   [ 0.70196078  0.85882353  0.89803922]\n",
      "   [ 0.70980392  0.85490196  0.89019608]\n",
      "   ..., \n",
      "   [ 0.56078431  0.64705882  0.63529412]\n",
      "   [ 0.58431373  0.68627451  0.66666667]\n",
      "   [ 0.58431373  0.67843137  0.64705882]]]\n",
      "\n",
      "\n",
      " [[[ 0.35686275  0.56470588  0.56470588]\n",
      "   [ 0.36470588  0.55294118  0.55294118]\n",
      "   [ 0.38823529  0.56862745  0.56862745]\n",
      "   ..., \n",
      "   [ 0.45490196  0.54901961  0.62352941]\n",
      "   [ 0.45882353  0.55686275  0.63137255]\n",
      "   [ 0.45098039  0.55294118  0.63137255]]\n",
      "\n",
      "  [[ 0.36078431  0.56470588  0.55294118]\n",
      "   [ 0.36862745  0.56470588  0.55686275]\n",
      "   [ 0.39215686  0.57254902  0.56862745]\n",
      "   ..., \n",
      "   [ 0.45098039  0.55294118  0.62745098]\n",
      "   [ 0.45490196  0.56078431  0.63921569]\n",
      "   [ 0.45098039  0.55686275  0.63137255]]\n",
      "\n",
      "  [[ 0.37647059  0.58431373  0.58039216]\n",
      "   [ 0.38431373  0.57647059  0.57254902]\n",
      "   [ 0.39215686  0.56862745  0.56470588]\n",
      "   ..., \n",
      "   [ 0.44313725  0.5372549   0.60784314]\n",
      "   [ 0.44705882  0.54901961  0.61960784]\n",
      "   [ 0.44705882  0.54901961  0.61960784]]\n",
      "\n",
      "  ..., \n",
      "  [[ 0.41960784  0.61176471  0.62745098]\n",
      "   [ 0.42352941  0.61176471  0.62745098]\n",
      "   [ 0.42745098  0.60784314  0.61568627]\n",
      "   ..., \n",
      "   [ 0.4         0.58431373  0.56078431]\n",
      "   [ 0.37254902  0.56078431  0.53333333]\n",
      "   [ 0.19215686  0.34901961  0.32156863]]\n",
      "\n",
      "  [[ 0.43137255  0.61960784  0.63137255]\n",
      "   [ 0.42745098  0.61568627  0.62745098]\n",
      "   [ 0.42745098  0.60784314  0.61568627]\n",
      "   ..., \n",
      "   [ 0.36862745  0.5372549   0.50588235]\n",
      "   [ 0.36470588  0.54509804  0.51372549]\n",
      "   [ 0.29803922  0.4745098   0.43529412]]\n",
      "\n",
      "  [[ 0.42745098  0.62352941  0.63921569]\n",
      "   [ 0.41960784  0.61176471  0.62352941]\n",
      "   [ 0.41960784  0.59607843  0.60784314]\n",
      "   ..., \n",
      "   [ 0.36078431  0.52941176  0.48627451]\n",
      "   [ 0.35686275  0.52156863  0.4745098 ]\n",
      "   [ 0.34509804  0.52156863  0.47058824]]]\n",
      "\n",
      "\n",
      " [[[ 0.36078431  0.49803922  0.52941176]\n",
      "   [ 0.36470588  0.49411765  0.52156863]\n",
      "   [ 0.36862745  0.49019608  0.52156863]\n",
      "   ..., \n",
      "   [ 0.30196078  0.38431373  0.42352941]\n",
      "   [ 0.29803922  0.38431373  0.41960784]\n",
      "   [ 0.30588235  0.38431373  0.41568627]]\n",
      "\n",
      "  [[ 0.36078431  0.49411765  0.5254902 ]\n",
      "   [ 0.36470588  0.49411765  0.52156863]\n",
      "   [ 0.36470588  0.49019608  0.51764706]\n",
      "   ..., \n",
      "   [ 0.32941176  0.41960784  0.45882353]\n",
      "   [ 0.32941176  0.41960784  0.45882353]\n",
      "   [ 0.32941176  0.41960784  0.45490196]]\n",
      "\n",
      "  [[ 0.36862745  0.49411765  0.53333333]\n",
      "   [ 0.36862745  0.49411765  0.52941176]\n",
      "   [ 0.36862745  0.49019608  0.52156863]\n",
      "   ..., \n",
      "   [ 0.31764706  0.40392157  0.44313725]\n",
      "   [ 0.32156863  0.41568627  0.45490196]\n",
      "   [ 0.31764706  0.41176471  0.45098039]]\n",
      "\n",
      "  ..., \n",
      "  [[ 0.38823529  0.51372549  0.58431373]\n",
      "   [ 0.39215686  0.51372549  0.58823529]\n",
      "   [ 0.4         0.51764706  0.58823529]\n",
      "   ..., \n",
      "   [ 0.13333333  0.23137255  0.30588235]\n",
      "   [ 0.25490196  0.45098039  0.59607843]\n",
      "   [ 0.24705882  0.42352941  0.55294118]]\n",
      "\n",
      "  [[ 0.38431373  0.50980392  0.58431373]\n",
      "   [ 0.39607843  0.51764706  0.58823529]\n",
      "   [ 0.39607843  0.51764706  0.58823529]\n",
      "   ..., \n",
      "   [ 0.14509804  0.23529412  0.32156863]\n",
      "   [ 0.25882353  0.45490196  0.60392157]\n",
      "   [ 0.25098039  0.43529412  0.56470588]]\n",
      "\n",
      "  [[ 0.38431373  0.51372549  0.59215686]\n",
      "   [ 0.39215686  0.51372549  0.58431373]\n",
      "   [ 0.38823529  0.50980392  0.57647059]\n",
      "   ..., \n",
      "   [ 0.14509804  0.23921569  0.3254902 ]\n",
      "   [ 0.2627451   0.45098039  0.59215686]\n",
      "   [ 0.2627451   0.43529412  0.56078431]]]]\n"
     ]
    }
   ],
   "source": [
    "train_x_data_set = train_x_data_set/255\n",
    "print(train_x_data_set)"
   ]
  },
  {
   "cell_type": "code",
   "execution_count": 7,
   "metadata": {
    "collapsed": true
   },
   "outputs": [],
   "source": [
    "train_y_data_set=np.array([])"
   ]
  },
  {
   "cell_type": "code",
   "execution_count": 8,
   "metadata": {},
   "outputs": [
    {
     "name": "stdout",
     "output_type": "stream",
     "text": [
      "shape of train label:(157,)\n",
      "[ 1.  1.  1.  1.  1.  1.  1.  1.  1.  1.  1.  1.  1.  1.  1.  1.  1.  1.\n",
      "  1.  1.  1.  1.  1.  1.  1.  1.  1.  1.  1.  1.  1.  1.  1.  1.  1.  1.\n",
      "  1.  1.  1.  1.  1.  1.  1.  1.  1.  1.  1.  1.  1.  1.  1.  1.  1.  1.\n",
      "  1.  1.  1.  1.  1.  1.  1.  1.  1.  1.  1.  1.  1.  1.  1.  1.  1.  1.\n",
      "  1.  1.  1.  1.  1.  1.  1.  1.  1.  1.  0.  0.  0.  0.  0.  0.  0.  0.\n",
      "  0.  0.  0.  0.  0.  0.  0.  0.  0.  0.  0.  0.  0.  0.  0.  0.  0.  0.\n",
      "  0.  0.  0.  0.  0.  0.  0.  0.  0.  0.  0.  0.  0.  0.  0.  0.  0.  0.\n",
      "  0.  0.  0.  0.  0.  0.  0.  0.  0.  0.  0.  0.  0.  0.  0.  0.  0.  0.\n",
      "  0.  0.  0.  0.  0.  0.  0.  0.  0.  0.  0.  0.  0.]\n"
     ]
    }
   ],
   "source": [
    "train_y_data_set=np.append(np.append(train_y_data_set,[1]*train_hand_sample),[0]*train_non_hand_sample)\n",
    "print(\"shape of train label:\"+str(train_y_data_set.shape))\n",
    "print(train_y_data_set)"
   ]
  },
  {
   "attachments": {
    "image.png": {
     "image/png": "[encoded data removed]"
    }
   },
   "cell_type": "markdown",
   "metadata": {},
   "source": [
    "![image.png](attachment:image.png)\n",
    "Final number gives us probablity of image belonging to class 1.\n",
    "'Relu' activation function used except for output layer where 'sigmoid' activation function is used."
   ]
  },
  {
   "cell_type": "code",
   "execution_count": 9,
   "metadata": {
    "collapsed": true
   },
   "outputs": [],
   "source": [
    "model = Sequential()\n",
    "model.add(Conv2D(8,(3,3),input_shape=(100,100,3),activation='relu'))\n",
    "model.add(MaxPooling2D(pool_size=(2,2),strides=2))\n",
    "model.add(Conv2D(12,(3,3),activation='relu'))\n",
    "model.add(MaxPooling2D(pool_size=(2,2),strides=2))\n",
    "model.add(Conv2D(16,(3,3),activation='relu'))\n",
    "model.add(MaxPooling2D(pool_size=(2,2)))\n",
    "model.add(Flatten())\n",
    "model.add(Dense(units=128,activation='relu'))\n",
    "model.add(Dense(units=1,activation='sigmoid'))"
   ]
  },
  {
   "cell_type": "code",
   "execution_count": 10,
   "metadata": {},
   "outputs": [],
   "source": [
    "model.compile(optimizer='adam',loss='binary_crossentropy',metrics=['accuracy'])"
   ]
  },
  {
   "cell_type": "code",
   "execution_count": 11,
   "metadata": {},
   "outputs": [
    {
     "name": "stdout",
     "output_type": "stream",
     "text": [
      "Epoch 1/50\n",
      "157/157 [==============================] - 2s 13ms/step - loss: 0.7166 - acc: 0.4713\n",
      "Epoch 2/50\n",
      "157/157 [==============================] - 1s 8ms/step - loss: 0.6860 - acc: 0.4777\n",
      "Epoch 3/50\n",
      "157/157 [==============================] - 1s 7ms/step - loss: 0.6553 - acc: 0.6688\n",
      "Epoch 4/50\n",
      "157/157 [==============================] - 1s 8ms/step - loss: 0.6302 - acc: 0.6943\n",
      "Epoch 5/50\n",
      "157/157 [==============================] - 1s 9ms/step - loss: 0.6602 - acc: 0.5669\n",
      "Epoch 6/50\n",
      "157/157 [==============================] - 1s 8ms/step - loss: 0.6310 - acc: 0.6624\n",
      "Epoch 7/50\n",
      "157/157 [==============================] - 1s 9ms/step - loss: 0.6071 - acc: 0.6497\n",
      "Epoch 8/50\n",
      "157/157 [==============================] - 1s 7ms/step - loss: 0.5905 - acc: 0.6688\n",
      "Epoch 9/50\n",
      "157/157 [==============================] - 1s 7ms/step - loss: 0.5744 - acc: 0.6943\n",
      "Epoch 10/50\n",
      "157/157 [==============================] - 1s 7ms/step - loss: 0.5679 - acc: 0.6688\n",
      "Epoch 11/50\n",
      "157/157 [==============================] - 1s 7ms/step - loss: 0.5505 - acc: 0.7006\n",
      "Epoch 12/50\n",
      "157/157 [==============================] - 1s 8ms/step - loss: 0.5325 - acc: 0.7006\n",
      "Epoch 13/50\n",
      "157/157 [==============================] - 1s 7ms/step - loss: 0.5184 - acc: 0.7070\n",
      "Epoch 14/50\n",
      "157/157 [==============================] - 1s 7ms/step - loss: 0.5036 - acc: 0.7197\n",
      "Epoch 15/50\n",
      "157/157 [==============================] - 1s 7ms/step - loss: 0.4826 - acc: 0.7643\n",
      "Epoch 16/50\n",
      "157/157 [==============================] - 1s 7ms/step - loss: 0.4855 - acc: 0.7707\n",
      "Epoch 17/50\n",
      "157/157 [==============================] - 1s 8ms/step - loss: 0.4321 - acc: 0.7962\n",
      "Epoch 18/50\n",
      "157/157 [==============================] - 1s 8ms/step - loss: 0.4322 - acc: 0.8153\n",
      "Epoch 19/50\n",
      "157/157 [==============================] - 1s 8ms/step - loss: 0.4216 - acc: 0.8089\n",
      "Epoch 20/50\n",
      "157/157 [==============================] - 1s 9ms/step - loss: 0.4009 - acc: 0.8217\n",
      "Epoch 21/50\n",
      "157/157 [==============================] - 1s 9ms/step - loss: 0.3970 - acc: 0.7962\n",
      "Epoch 22/50\n",
      "157/157 [==============================] - 1s 8ms/step - loss: 0.3852 - acc: 0.8153\n",
      "Epoch 23/50\n",
      "157/157 [==============================] - 1s 8ms/step - loss: 0.4259 - acc: 0.7707\n",
      "Epoch 24/50\n",
      "157/157 [==============================] - 1s 7ms/step - loss: 0.4236 - acc: 0.7962\n",
      "Epoch 25/50\n",
      "157/157 [==============================] - 1s 8ms/step - loss: 0.3955 - acc: 0.8089\n",
      "Epoch 26/50\n",
      "157/157 [==============================] - 1s 7ms/step - loss: 0.3564 - acc: 0.8535\n",
      "Epoch 27/50\n",
      "157/157 [==============================] - 1s 8ms/step - loss: 0.3204 - acc: 0.8854\n",
      "Epoch 28/50\n",
      "157/157 [==============================] - 1s 8ms/step - loss: 0.3090 - acc: 0.8917\n",
      "Epoch 29/50\n",
      "157/157 [==============================] - 1s 7ms/step - loss: 0.2918 - acc: 0.9045\n",
      "Epoch 30/50\n",
      "157/157 [==============================] - 1s 8ms/step - loss: 0.2808 - acc: 0.8981\n",
      "Epoch 31/50\n",
      "157/157 [==============================] - 1s 8ms/step - loss: 0.2943 - acc: 0.8854\n",
      "Epoch 32/50\n",
      "157/157 [==============================] - 1s 8ms/step - loss: 0.2635 - acc: 0.8981\n",
      "Epoch 33/50\n",
      "157/157 [==============================] - 1s 8ms/step - loss: 0.2425 - acc: 0.9299\n",
      "Epoch 34/50\n",
      "157/157 [==============================] - 1s 8ms/step - loss: 0.2490 - acc: 0.9236\n",
      "Epoch 35/50\n",
      "157/157 [==============================] - 1s 8ms/step - loss: 0.2428 - acc: 0.9172\n",
      "Epoch 36/50\n",
      "157/157 [==============================] - 1s 9ms/step - loss: 0.2351 - acc: 0.9108\n",
      "Epoch 37/50\n",
      "157/157 [==============================] - 1s 9ms/step - loss: 0.2133 - acc: 0.9427\n",
      "Epoch 38/50\n",
      "157/157 [==============================] - 1s 9ms/step - loss: 0.1885 - acc: 0.9427\n",
      "Epoch 39/50\n",
      "157/157 [==============================] - 1s 7ms/step - loss: 0.1747 - acc: 0.9554\n",
      "Epoch 40/50\n",
      "157/157 [==============================] - 1s 8ms/step - loss: 0.1771 - acc: 0.9363\n",
      "Epoch 41/50\n",
      "157/157 [==============================] - 1s 8ms/step - loss: 0.1642 - acc: 0.9363\n",
      "Epoch 42/50\n",
      "157/157 [==============================] - 1s 8ms/step - loss: 0.1545 - acc: 0.9554\n",
      "Epoch 43/50\n",
      "157/157 [==============================] - 1s 8ms/step - loss: 0.1491 - acc: 0.9618\n",
      "Epoch 44/50\n",
      "157/157 [==============================] - 1s 8ms/step - loss: 0.1373 - acc: 0.9618\n",
      "Epoch 45/50\n",
      "157/157 [==============================] - 1s 7ms/step - loss: 0.1387 - acc: 0.9554\n",
      "Epoch 46/50\n",
      "157/157 [==============================] - 1s 8ms/step - loss: 0.1394 - acc: 0.9618\n",
      "Epoch 47/50\n",
      "157/157 [==============================] - 1s 8ms/step - loss: 0.1343 - acc: 0.9682\n",
      "Epoch 48/50\n",
      "157/157 [==============================] - 1s 8ms/step - loss: 0.1152 - acc: 0.9809\n",
      "Epoch 49/50\n",
      "157/157 [==============================] - 1s 7ms/step - loss: 0.1321 - acc: 0.9618\n",
      "Epoch 50/50\n",
      "157/157 [==============================] - 1s 8ms/step - loss: 0.1253 - acc: 0.9618\n"
     ]
    },
    {
     "data": {
      "text/plain": [
       "<keras.callbacks.History at 0x7feaa6ffae48>"
      ]
     },
     "execution_count": 11,
     "metadata": {},
     "output_type": "execute_result"
    }
   ],
   "source": [
    "model.fit(train_x_data_set,train_y_data_set,epochs=50)"
   ]
  },
  {
   "cell_type": "code",
   "execution_count": 12,
   "metadata": {
    "collapsed": true
   },
   "outputs": [],
   "source": [
    "test_x_data_set=np.zeros([test_hand_sample+test_non_hand_sample,100,100,3])\n",
    "test_file_list = []"
   ]
  },
  {
   "cell_type": "code",
   "execution_count": 13,
   "metadata": {
    "collapsed": true
   },
   "outputs": [],
   "source": [
    "for index,filename in enumerate(os.listdir(test_hand_dir)):\n",
    "    img = Image.open(test_hand_dir+filename)\n",
    "    test_file_list.append(filename)\n",
    "    img = img.resize((100,100),Image.ANTIALIAS)\n",
    "    im = np.array(img)\n",
    "    test_x_data_set[index,:,:,:]=im"
   ]
  },
  {
   "cell_type": "code",
   "execution_count": 14,
   "metadata": {
    "collapsed": true
   },
   "outputs": [],
   "source": [
    "for index,filename in enumerate(os.listdir(test_non_hand_dir)):\n",
    "    img = Image.open(test_non_hand_dir+filename)\n",
    "    test_file_list.append(filename)\n",
    "    img = img.resize((100,100),Image.ANTIALIAS)\n",
    "    im = np.array(img)\n",
    "    test_x_data_set[test_hand_sample+index,:,:,:]=im"
   ]
  },
  {
   "cell_type": "code",
   "execution_count": 15,
   "metadata": {
    "collapsed": true
   },
   "outputs": [],
   "source": [
    "test_x_data_set = test_x_data_set/255"
   ]
  },
  {
   "cell_type": "code",
   "execution_count": 16,
   "metadata": {
    "collapsed": true
   },
   "outputs": [],
   "source": [
    "test_y_data_set=np.array([])\n",
    "test_y_data_set=np.append(np.append(test_y_data_set,[1]*test_hand_sample),[0]*test_non_hand_sample)"
   ]
  },
  {
   "cell_type": "code",
   "execution_count": 17,
   "metadata": {},
   "outputs": [
    {
     "name": "stdout",
     "output_type": "stream",
     "text": [
      "\r",
      "17/17 [==============================] - 0s 6ms/step\n"
     ]
    },
    {
     "data": {
      "text/plain": [
       "[0.24424222111701965, 0.88235294818878174]"
      ]
     },
     "execution_count": 17,
     "metadata": {},
     "output_type": "execute_result"
    }
   ],
   "source": [
    "model.evaluate(test_x_data_set,test_y_data_set)"
   ]
  },
  {
   "cell_type": "code",
   "execution_count": 18,
   "metadata": {},
   "outputs": [
    {
     "name": "stdout",
     "output_type": "stream",
     "text": [
      "CPU times: user 224 ms, sys: 4 ms, total: 228 ms\n",
      "Wall time: 122 ms\n"
     ]
    }
   ],
   "source": [
    "import timeit\n",
    "%time predictions=model.predict(test_x_data_set)"
   ]
  },
  {
   "cell_type": "code",
   "execution_count": 19,
   "metadata": {},
   "outputs": [
    {
     "name": "stdout",
     "output_type": "stream",
     "text": [
      "t_frame0014.jpg-->[ 0.45177066]\n",
      "1_frame0004.jpg-->[ 0.98144794]\n",
      "t_frame0036.jpg-->[ 0.99956304]\n",
      "t_frame0048.jpg-->[ 0.99680978]\n",
      "1_frame0040.jpg-->[ 0.99047756]\n",
      "t_frame0017.jpg-->[ 0.76117331]\n",
      "1_frame0009.jpg-->[ 0.93965125]\n",
      "1_frame0025.jpg-->[ 0.16561018]\n",
      "1_frame0043.jpg-->[ 0.75191885]\n",
      "t_frame0037.jpg-->[ 0.32885852]\n",
      "1_frame0000.jpg-->[ 0.1003756]\n",
      "1_frame0037.jpg-->[ 0.10997311]\n",
      "frame0009.jpg-->[  5.51885706e-17]\n",
      "t_frame0028.jpg-->[ 0.02747949]\n",
      "t_frame0010.jpg-->[ 0.22762516]\n",
      "frame0003.jpg-->[  1.79547987e-05]\n",
      "frame0010.jpg-->[  4.49190720e-15]\n"
     ]
    }
   ],
   "source": [
    "for filename,predict in zip(test_file_list,predictions):\n",
    "    print(filename+\"-->\"+str(predict))"
   ]
  },
  {
   "cell_type": "code",
   "execution_count": 20,
   "metadata": {
    "collapsed": true
   },
   "outputs": [],
   "source": [
    "model.save('/home/jayraj/Desktop/No_mouse_mouse/model/hand_detect_24_feb.model')"
   ]
  },
  {
   "cell_type": "code",
   "execution_count": null,
   "metadata": {
    "collapsed": true
   },
   "outputs": [],
   "source": []
  }
 ],
 "metadata": {
  "kernelspec": {
   "display_name": "Python 3",
   "language": "python",
   "name": "python3"
  },
  "language_info": {
   "codemirror_mode": {
    "name": "ipython",
    "version": 3
   },
   "file_extension": ".py",
   "mimetype": "text/x-python",
   "name": "python",
   "nbconvert_exporter": "python",
   "pygments_lexer": "ipython3",
   "version": "3.6.3"
  }
 },
 "nbformat": 4,
 "nbformat_minor": 2
}
