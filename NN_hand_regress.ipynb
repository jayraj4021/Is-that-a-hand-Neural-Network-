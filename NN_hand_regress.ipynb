{
 "cells": [
  {
   "cell_type": "code",
   "execution_count": 1,
   "metadata": {},
   "outputs": [
    {
     "name": "stderr",
     "output_type": "stream",
     "text": [
      "Using TensorFlow backend.\n"
     ]
    }
   ],
   "source": [
    "from PIL import Image\n",
    "import matplotlib.pyplot as plt\n",
    "import matplotlib.patches as patches\n",
    "import numpy as np\n",
    "import os\n",
    "from keras.models import Sequential\n",
    "from keras.layers import Conv2D\n",
    "from keras.layers import MaxPooling2D\n",
    "from keras.layers import Flatten\n",
    "from keras.layers import Dense"
   ]
  },
  {
   "cell_type": "code",
   "execution_count": 2,
   "metadata": {},
   "outputs": [
    {
     "name": "stdout",
     "output_type": "stream",
     "text": [
      "Train Set samples: 82\n",
      "Test Set samples: 4\n"
     ]
    }
   ],
   "source": [
    "train_dir = '/home/jayraj/Desktop/No_mouse_mouse/data_Set/dummy_reg/train/'\n",
    "train_label_file = '/home/jayraj/Desktop/No_mouse_mouse/data_Set/dummy_reg/coordi_train.csv'\n",
    "train_coordi_dict ={}\n",
    "with open(train_label_file) as f:\n",
    "    lines = f.read().splitlines()\n",
    "for line in lines:\n",
    "    elements=line.split(',')\n",
    "    train_coordi_dict[elements[0]]=elements[1:]\n",
    "    \n",
    "test_dir = '/home/jayraj/Desktop/No_mouse_mouse/data_Set/dummy_reg/test/'\n",
    "test_label_file = '/home/jayraj/Desktop/No_mouse_mouse/data_Set/dummy_reg/coordi_test.csv'\n",
    "test_coordi_dict ={}\n",
    "with open(test_label_file) as f:\n",
    "    lines = f.read().splitlines()\n",
    "for line in lines:\n",
    "    elements=line.split(',')\n",
    "    test_coordi_dict[elements[0]]=elements[1:]\n",
    "\n",
    "train_sample = len(os.listdir(train_dir))\n",
    "test_sample = len(os.listdir(test_dir))\n",
    "print(\"Train Set samples: \"+str(train_sample))\n",
    "print(\"Test Set samples: \"+str(test_sample))"
   ]
  },
  {
   "cell_type": "code",
   "execution_count": 3,
   "metadata": {
    "collapsed": true
   },
   "outputs": [],
   "source": [
    "train_x_data_set = np.zeros([train_sample,100,100,3])\n",
    "train_y_data_set = np.zeros([train_sample,4])"
   ]
  },
  {
   "cell_type": "code",
   "execution_count": 4,
   "metadata": {
    "collapsed": true
   },
   "outputs": [],
   "source": [
    "for index,filename in enumerate(os.listdir(train_dir)):\n",
    "    img = Image.open(train_dir+filename)\n",
    "    img = img.resize((100,100),Image.ANTIALIAS)\n",
    "    im = np.array(img)\n",
    "    train_x_data_set[index,:,:,:]=im\n",
    "    train_y_data_set[index,:]=train_coordi_dict[filename]"
   ]
  },
  {
   "cell_type": "code",
   "execution_count": 5,
   "metadata": {
    "collapsed": true
   },
   "outputs": [],
   "source": [
    "train_x_data_set = train_x_data_set/255"
   ]
  },
  {
   "cell_type": "code",
   "execution_count": 6,
   "metadata": {
    "collapsed": true
   },
   "outputs": [],
   "source": [
    "model = Sequential()\n",
    "model.add(Conv2D(8,(3,3),input_shape=(100,100,3),activation='relu'))\n",
    "model.add(MaxPooling2D(pool_size=(2,2),strides=2))\n",
    "model.add(Conv2D(12,(3,3),activation='relu'))\n",
    "model.add(MaxPooling2D(pool_size=(2,2),strides=2))\n",
    "model.add(Conv2D(16,(3,3),activation='relu'))\n",
    "model.add(MaxPooling2D(pool_size=(2,2)))\n",
    "model.add(Flatten())\n",
    "model.add(Dense(units=128,activation='relu'))\n",
    "model.add(Dense(units=4,activation='sigmoid'))"
   ]
  },
  {
   "cell_type": "code",
   "execution_count": 7,
   "metadata": {
    "collapsed": true
   },
   "outputs": [],
   "source": [
    "model.compile(optimizer='adam',loss='mean_squared_error')"
   ]
  },
  {
   "cell_type": "code",
   "execution_count": 8,
   "metadata": {},
   "outputs": [
    {
     "name": "stdout",
     "output_type": "stream",
     "text": [
      "Epoch 1/100\n",
      "82/82 [==============================] - 1s 13ms/step - loss: 0.0848\n",
      "Epoch 2/100\n",
      "82/82 [==============================] - 1s 10ms/step - loss: 0.0402\n",
      "Epoch 3/100\n",
      "82/82 [==============================] - 1s 11ms/step - loss: 0.0227\n",
      "Epoch 4/100\n",
      "82/82 [==============================] - 1s 11ms/step - loss: 0.0292\n",
      "Epoch 5/100\n",
      "82/82 [==============================] - 1s 9ms/step - loss: 0.0270\n",
      "Epoch 6/100\n",
      "82/82 [==============================] - 1s 9ms/step - loss: 0.0227\n",
      "Epoch 7/100\n",
      "82/82 [==============================] - 1s 8ms/step - loss: 0.0214\n",
      "Epoch 8/100\n",
      "82/82 [==============================] - 1s 10ms/step - loss: 0.0206\n",
      "Epoch 9/100\n",
      "82/82 [==============================] - 1s 9ms/step - loss: 0.0188\n",
      "Epoch 10/100\n",
      "82/82 [==============================] - 1s 8ms/step - loss: 0.0176\n",
      "Epoch 11/100\n",
      "82/82 [==============================] - 1s 8ms/step - loss: 0.0165\n",
      "Epoch 12/100\n",
      "82/82 [==============================] - 1s 8ms/step - loss: 0.0147\n",
      "Epoch 13/100\n",
      "82/82 [==============================] - 1s 9ms/step - loss: 0.0126\n",
      "Epoch 14/100\n",
      "82/82 [==============================] - 1s 13ms/step - loss: 0.0106\n",
      "Epoch 15/100\n",
      "82/82 [==============================] - 1s 12ms/step - loss: 0.0087\n",
      "Epoch 16/100\n",
      "82/82 [==============================] - 1s 11ms/step - loss: 0.0077\n",
      "Epoch 17/100\n",
      "82/82 [==============================] - 1s 9ms/step - loss: 0.0073\n",
      "Epoch 18/100\n",
      "82/82 [==============================] - 1s 8ms/step - loss: 0.0069\n",
      "Epoch 19/100\n",
      "82/82 [==============================] - 1s 8ms/step - loss: 0.0064\n",
      "Epoch 20/100\n",
      "82/82 [==============================] - 1s 8ms/step - loss: 0.0060\n",
      "Epoch 21/100\n",
      "82/82 [==============================] - 1s 8ms/step - loss: 0.0055\n",
      "Epoch 22/100\n",
      "82/82 [==============================] - 1s 8ms/step - loss: 0.0051\n",
      "Epoch 23/100\n",
      "82/82 [==============================] - 1s 8ms/step - loss: 0.0047\n",
      "Epoch 24/100\n",
      "82/82 [==============================] - 1s 8ms/step - loss: 0.0043\n",
      "Epoch 25/100\n",
      "82/82 [==============================] - 1s 8ms/step - loss: 0.0040\n",
      "Epoch 26/100\n",
      "82/82 [==============================] - 1s 8ms/step - loss: 0.0037\n",
      "Epoch 27/100\n",
      "82/82 [==============================] - 1s 8ms/step - loss: 0.0035\n",
      "Epoch 28/100\n",
      "82/82 [==============================] - 1s 8ms/step - loss: 0.0032\n",
      "Epoch 29/100\n",
      "82/82 [==============================] - 1s 8ms/step - loss: 0.0030\n",
      "Epoch 30/100\n",
      "82/82 [==============================] - 1s 8ms/step - loss: 0.0028\n",
      "Epoch 31/100\n",
      "82/82 [==============================] - 1s 8ms/step - loss: 0.0026\n",
      "Epoch 32/100\n",
      "82/82 [==============================] - 1s 8ms/step - loss: 0.0024\n",
      "Epoch 33/100\n",
      "82/82 [==============================] - 1s 8ms/step - loss: 0.0022\n",
      "Epoch 34/100\n",
      "82/82 [==============================] - 1s 8ms/step - loss: 0.0021\n",
      "Epoch 35/100\n",
      "82/82 [==============================] - 1s 8ms/step - loss: 0.0020\n",
      "Epoch 36/100\n",
      "82/82 [==============================] - 1s 9ms/step - loss: 0.0019\n",
      "Epoch 37/100\n",
      "82/82 [==============================] - 1s 10ms/step - loss: 0.0017\n",
      "Epoch 38/100\n",
      "82/82 [==============================] - 1s 9ms/step - loss: 0.0016\n",
      "Epoch 39/100\n",
      "82/82 [==============================] - 1s 8ms/step - loss: 0.0015\n",
      "Epoch 40/100\n",
      "82/82 [==============================] - 1s 8ms/step - loss: 0.0015\n",
      "Epoch 41/100\n",
      "82/82 [==============================] - 1s 8ms/step - loss: 0.0014\n",
      "Epoch 42/100\n",
      "82/82 [==============================] - 1s 8ms/step - loss: 0.0013\n",
      "Epoch 43/100\n",
      "82/82 [==============================] - 1s 8ms/step - loss: 0.0013\n",
      "Epoch 44/100\n",
      "82/82 [==============================] - 1s 8ms/step - loss: 0.0012\n",
      "Epoch 45/100\n",
      "82/82 [==============================] - 1s 8ms/step - loss: 0.0012\n",
      "Epoch 46/100\n",
      "82/82 [==============================] - 1s 8ms/step - loss: 0.0011\n",
      "Epoch 47/100\n",
      "82/82 [==============================] - 1s 8ms/step - loss: 0.0011\n",
      "Epoch 48/100\n",
      "82/82 [==============================] - 1s 8ms/step - loss: 0.0011\n",
      "Epoch 49/100\n",
      "82/82 [==============================] - 1s 8ms/step - loss: 0.0011\n",
      "Epoch 50/100\n",
      "82/82 [==============================] - 1s 8ms/step - loss: 0.0010\n",
      "Epoch 51/100\n",
      "82/82 [==============================] - 1s 8ms/step - loss: 0.0010\n",
      "Epoch 52/100\n",
      "82/82 [==============================] - 1s 8ms/step - loss: 9.5552e-04\n",
      "Epoch 53/100\n",
      "82/82 [==============================] - 1s 8ms/step - loss: 9.4642e-04\n",
      "Epoch 54/100\n",
      "82/82 [==============================] - 1s 8ms/step - loss: 8.9413e-04\n",
      "Epoch 55/100\n",
      "82/82 [==============================] - 1s 8ms/step - loss: 8.9902e-04\n",
      "Epoch 56/100\n",
      "82/82 [==============================] - 1s 8ms/step - loss: 8.4140e-04\n",
      "Epoch 57/100\n",
      "82/82 [==============================] - 1s 8ms/step - loss: 8.3906e-04\n",
      "Epoch 58/100\n",
      "82/82 [==============================] - 1s 8ms/step - loss: 8.7472e-04\n",
      "Epoch 59/100\n",
      "82/82 [==============================] - 1s 8ms/step - loss: 8.7400e-04\n",
      "Epoch 60/100\n",
      "82/82 [==============================] - 1s 9ms/step - loss: 9.2715e-04\n",
      "Epoch 61/100\n",
      "82/82 [==============================] - 1s 10ms/step - loss: 9.0005e-04\n",
      "Epoch 62/100\n",
      "82/82 [==============================] - 1s 9ms/step - loss: 8.5232e-04\n",
      "Epoch 63/100\n",
      "82/82 [==============================] - 1s 8ms/step - loss: 8.1994e-04\n",
      "Epoch 64/100\n",
      "82/82 [==============================] - 1s 8ms/step - loss: 7.9670e-04\n",
      "Epoch 65/100\n",
      "82/82 [==============================] - 1s 8ms/step - loss: 7.9729e-04\n",
      "Epoch 66/100\n",
      "82/82 [==============================] - 1s 8ms/step - loss: 7.7435e-04\n",
      "Epoch 67/100\n",
      "82/82 [==============================] - 1s 8ms/step - loss: 6.8273e-04\n",
      "Epoch 68/100\n",
      "82/82 [==============================] - 1s 8ms/step - loss: 6.9485e-04\n",
      "Epoch 69/100\n",
      "82/82 [==============================] - 1s 8ms/step - loss: 6.7297e-04\n",
      "Epoch 70/100\n",
      "82/82 [==============================] - 1s 8ms/step - loss: 6.4821e-04\n",
      "Epoch 71/100\n",
      "82/82 [==============================] - 1s 8ms/step - loss: 6.1631e-04\n",
      "Epoch 72/100\n",
      "82/82 [==============================] - 1s 8ms/step - loss: 5.9240e-04\n",
      "Epoch 73/100\n",
      "82/82 [==============================] - 1s 8ms/step - loss: 5.9532e-04\n",
      "Epoch 74/100\n",
      "82/82 [==============================] - 1s 8ms/step - loss: 5.7089e-04\n",
      "Epoch 75/100\n",
      "82/82 [==============================] - 1s 8ms/step - loss: 5.6725e-04\n",
      "Epoch 76/100\n",
      "82/82 [==============================] - 1s 8ms/step - loss: 5.5134e-04\n",
      "Epoch 77/100\n",
      "82/82 [==============================] - 1s 8ms/step - loss: 5.3768e-04\n",
      "Epoch 78/100\n",
      "82/82 [==============================] - 1s 8ms/step - loss: 5.2665e-04\n",
      "Epoch 79/100\n",
      "82/82 [==============================] - 1s 8ms/step - loss: 5.2483e-04\n",
      "Epoch 80/100\n",
      "82/82 [==============================] - 1s 8ms/step - loss: 5.1878e-04\n",
      "Epoch 81/100\n",
      "82/82 [==============================] - 1s 8ms/step - loss: 5.2312e-04\n",
      "Epoch 82/100\n",
      "82/82 [==============================] - 1s 8ms/step - loss: 5.2590e-04\n",
      "Epoch 83/100\n",
      "82/82 [==============================] - 1s 8ms/step - loss: 5.0828e-04\n",
      "Epoch 84/100\n",
      "82/82 [==============================] - 1s 9ms/step - loss: 5.2230e-04\n",
      "Epoch 85/100\n",
      "82/82 [==============================] - 1s 10ms/step - loss: 5.0341e-04\n",
      "Epoch 86/100\n",
      "82/82 [==============================] - 1s 10ms/step - loss: 4.9112e-04\n",
      "Epoch 87/100\n",
      "82/82 [==============================] - 1s 8ms/step - loss: 4.9817e-04\n",
      "Epoch 88/100\n",
      "82/82 [==============================] - 1s 8ms/step - loss: 5.1635e-04\n",
      "Epoch 89/100\n",
      "82/82 [==============================] - 1s 8ms/step - loss: 4.9341e-04\n",
      "Epoch 90/100\n",
      "82/82 [==============================] - 1s 8ms/step - loss: 4.6582e-04\n",
      "Epoch 91/100\n",
      "82/82 [==============================] - 1s 8ms/step - loss: 4.7123e-04\n",
      "Epoch 92/100\n",
      "82/82 [==============================] - 1s 8ms/step - loss: 4.5275e-04\n",
      "Epoch 93/100\n",
      "82/82 [==============================] - 1s 8ms/step - loss: 4.4796e-04\n",
      "Epoch 94/100\n",
      "82/82 [==============================] - 1s 8ms/step - loss: 4.3646e-04\n",
      "Epoch 95/100\n",
      "82/82 [==============================] - 1s 8ms/step - loss: 4.1512e-04\n",
      "Epoch 96/100\n",
      "82/82 [==============================] - 1s 8ms/step - loss: 4.0564e-04\n",
      "Epoch 97/100\n",
      "82/82 [==============================] - 1s 8ms/step - loss: 3.8385e-04\n",
      "Epoch 98/100\n",
      "82/82 [==============================] - 1s 8ms/step - loss: 3.8303e-04\n",
      "Epoch 99/100\n",
      "82/82 [==============================] - 1s 8ms/step - loss: 3.7402e-04\n",
      "Epoch 100/100\n",
      "82/82 [==============================] - 1s 8ms/step - loss: 3.5687e-04\n"
     ]
    },
    {
     "data": {
      "text/plain": [
       "<keras.callbacks.History at 0x7f20e976eb38>"
      ]
     },
     "execution_count": 8,
     "metadata": {},
     "output_type": "execute_result"
    }
   ],
   "source": [
    "model.fit(train_x_data_set,train_y_data_set,epochs=100)"
   ]
  },
  {
   "cell_type": "code",
   "execution_count": 9,
   "metadata": {
    "collapsed": true
   },
   "outputs": [],
   "source": [
    "test_x_data_set = np.zeros([test_sample,100,100,3])\n",
    "test_y_data_set = np.zeros([test_sample,4])\n",
    "for index,filename in enumerate(os.listdir(test_dir)):\n",
    "    img = Image.open(test_dir+filename)\n",
    "    img = img.resize((100,100),Image.ANTIALIAS)\n",
    "    im = np.array(img)\n",
    "    test_x_data_set[index,:,:,:]=im\n",
    "    test_y_data_set[index,:]=test_coordi_dict[filename]\n",
    "test_x_data_set = test_x_data_set/255"
   ]
  },
  {
   "cell_type": "code",
   "execution_count": 10,
   "metadata": {},
   "outputs": [
    {
     "name": "stdout",
     "output_type": "stream",
     "text": [
      "\r",
      "4/4 [==============================] - 0s 15ms/step\n"
     ]
    },
    {
     "data": {
      "text/plain": [
       "0.0021237265318632126"
      ]
     },
     "execution_count": 10,
     "metadata": {},
     "output_type": "execute_result"
    }
   ],
   "source": [
    "model.evaluate(test_x_data_set,test_y_data_set)"
   ]
  },
  {
   "cell_type": "code",
   "execution_count": 11,
   "metadata": {},
   "outputs": [
    {
     "data": {
      "text/plain": [
       "array([[ 0.26060244,  0.16675363,  0.63148618,  0.8815428 ],\n",
       "       [ 0.17472386,  0.19365296,  0.59735262,  0.83719033],\n",
       "       [ 0.4558585 ,  0.02533373,  0.88085353,  0.61043668],\n",
       "       [ 0.24158834,  0.28230092,  0.80314678,  0.88043857]], dtype=float32)"
      ]
     },
     "execution_count": 11,
     "metadata": {},
     "output_type": "execute_result"
    }
   ],
   "source": [
    "predictions=model.predict(test_x_data_set)\n",
    "predictions"
   ]
  },
  {
   "cell_type": "code",
   "execution_count": 12,
   "metadata": {},
   "outputs": [
    {
     "data": {
      "text/plain": [
       "(100, 100, 3)"
      ]
     },
     "execution_count": 12,
     "metadata": {},
     "output_type": "execute_result"
    }
   ],
   "source": [
    "test_x_data_set[0].shape"
   ]
  },
  {
   "cell_type": "code",
   "execution_count": 13,
   "metadata": {},
   "outputs": [
    {
     "name": "stdout",
     "output_type": "stream",
     "text": [
      "[ 0.4558585   0.02533373  0.88085353  0.61043668]\n"
     ]
    },
    {
     "data": {
      "image/png": "[encoded data removed]",
      "text/plain": [
       "<matplotlib.figure.Figure at 0x7f20c8c6d550>"
      ]
     },
     "metadata": {},
     "output_type": "display_data"
    }
   ],
   "source": [
    "print(predictions[2])\n",
    "hight = predictions[2][2]-predictions[2][0]\n",
    "width = predictions[2][3]-predictions[2][1]\n",
    "test_img = Image.fromarray(np.uint8(test_x_data_set[2]*255))\n",
    "fig,ax = plt.subplots(1)\n",
    "ax.imshow(test_img)\n",
    "rect = patches.Rectangle((predictions[2][0]*100,predictions[2][1]*100),hight*100,width*100,linewidth=1,edgecolor='r',facecolor='none')\n",
    "ax.add_patch(rect)\n",
    "plt.show()"
   ]
  },
  {
   "cell_type": "code",
   "execution_count": null,
   "metadata": {
    "collapsed": true
   },
   "outputs": [],
   "source": [
    "model.save('/home/jayraj/Desktop/No_mouse_mouse/model/hand_re')"
   ]
  }
 ],
 "metadata": {
  "kernelspec": {
   "display_name": "Python 3",
   "language": "python",
   "name": "python3"
  },
  "language_info": {
   "codemirror_mode": {
    "name": "ipython",
    "version": 3
   },
   "file_extension": ".py",
   "mimetype": "text/x-python",
   "name": "python",
   "nbconvert_exporter": "python",
   "pygments_lexer": "ipython3",
   "version": "3.6.3"
  }
 },
 "nbformat": 4,
 "nbformat_minor": 2
}
